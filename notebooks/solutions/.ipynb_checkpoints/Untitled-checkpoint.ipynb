{
 "cells": [
  {
   "cell_type": "code",
   "execution_count": 1,
   "metadata": {},
   "outputs": [],
   "source": [
    "import numpy as np\n",
    "from scipy.integrate import odeint"
   ]
  },
  {
   "cell_type": "code",
   "execution_count": 73,
   "metadata": {},
   "outputs": [],
   "source": [
    "import pandas as pd\n",
    "from matplotlib import pyplot as plt"
   ]
  },
  {
   "cell_type": "code",
   "execution_count": 204,
   "metadata": {},
   "outputs": [],
   "source": [
    "def rhs(w, t, N, dr):\n",
    "    dwdt = np.zeros(N)\n",
    "    w[0] = 0\n",
    "    w[-1] = -1\n",
    "    \n",
    "    for i in range(1, N-1):\n",
    "        wr = (w[i+1] - w[i-1]) / (2 * dr)\n",
    "        wrr = (w[i+1] + w[i-1] - 2 * w[i]) / (dr ** 2)\n",
    "        dpdz = 120\n",
    "        Bn = 200\n",
    "        M = 100\n",
    "        m = 1.5\n",
    "        b = 2\n",
    "        r = i * dr + 0.5\n",
    "        h = (M ** 2) / (1 + m**2)\n",
    "        dwdt[i] = 0.5 * (wrr + wr / r) - (h + 1) * w[i] - dpdz + (Bn / r)\n",
    "    return dwdt"
   ]
  },
  {
   "cell_type": "code",
   "execution_count": 205,
   "metadata": {},
   "outputs": [],
   "source": [
    "N = 120\n",
    "R = 1\n",
    "dr = R / N\n",
    "t = [0, 1, 2, 3, 4]\n",
    "w0 = np.zeros(N)"
   ]
  },
  {
   "cell_type": "code",
   "execution_count": 207,
   "metadata": {},
   "outputs": [],
   "source": [
    "sol = odeint(rhs, w0, t, args=(N, dr))\n",
    "df = pd.DataFrame(sol)\n",
    "df.columns = [x/100 for x in df.columns]"
   ]
  },
  {
   "cell_type": "code",
   "execution_count": 208,
   "metadata": {},
   "outputs": [
    {
     "data": {
      "text/plain": [
       "<AxesSubplot:>"
      ]
     },
     "execution_count": 208,
     "metadata": {},
     "output_type": "execute_result"
    },
    {
     "data": {
      "image/png": "[encoded data removed]",
      "text/plain": [
       "<Figure size 432x288 with 1 Axes>"
      ]
     },
     "metadata": {
      "needs_background": "light"
     },
     "output_type": "display_data"
    }
   ],
   "source": [
    "df.loc[2].plot()"
   ]
  },
  {
   "cell_type": "code",
   "execution_count": null,
   "metadata": {},
   "outputs": [],
   "source": []
  }
 ],
 "metadata": {
  "kernelspec": {
   "display_name": "Python 3",
   "language": "python",
   "name": "python3"
  },
  "language_info": {
   "codemirror_mode": {
    "name": "ipython",
    "version": 3
   },
   "file_extension": ".py",
   "mimetype": "text/x-python",
   "name": "python",
   "nbconvert_exporter": "python",
   "pygments_lexer": "ipython3",
   "version": "3.8.5"
  }
 },
 "nbformat": 4,
 "nbformat_minor": 4
}
